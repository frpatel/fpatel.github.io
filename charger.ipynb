{
 "cells": [
  {
   "cell_type": "code",
   "execution_count": 1,
   "metadata": {},
   "outputs": [],
   "source": [
    "import os\n",
    "import pyodbc\n",
    "import pandas as pd\n",
    "import numpy as np\n",
    "import shutil"
   ]
  },
  {
   "cell_type": "code",
   "execution_count": 2,
   "metadata": {},
   "outputs": [],
   "source": [
    "#server = 'tcp:sqlserverprod'\n",
    "server='BO105'\n",
    "#database = 'Reporting'\n",
    "database='test_db'\n",
    "conn = pyodbc.connect('DRIVER={ODBC Driver 17 for SQL Server};SERVER='+server+';DATABASE='+database+';Trusted_Connection=yes;')\n",
    "cursor = conn.cursor()"
   ]
  },
  {
   "cell_type": "code",
   "execution_count": 3,
   "metadata": {},
   "outputs": [],
   "source": [
    "UnProcessedPath = os.path.join('C:', os.sep, 'FilePath','UnProcessed')\n",
    "ProcessedPath = os.path.join('C:', os.sep, 'FilePath','Processed')\n",
    "#UnProcessedPath = os.path.join('E:', os.sep, 'UnProcessed')\n",
    "#ProcessedPath = os.path.join('E:', os.sep, 'Processed')"
   ]
  },
  {
   "cell_type": "code",
   "execution_count": 4,
   "metadata": {},
   "outputs": [],
   "source": [
    "with os.scandir(UnProcessedPath) as files:\n",
    "    for file in files:\n",
    "        if file.is_file():\n",
    "            xlsfile=file.name"
   ]
  },
  {
   "cell_type": "code",
   "execution_count": 5,
   "metadata": {},
   "outputs": [
    {
     "data": {
      "text/plain": [
       "'C:\\\\FilePath\\\\UnProcessed\\\\16 Dec to 22 Dec Power Query.xlsx'"
      ]
     },
     "execution_count": 5,
     "metadata": {},
     "output_type": "execute_result"
    }
   ],
   "source": [
    "unprocessedfilepath = os.path.join(UnProcessedPath, xlsfile)\n",
    "processedfilepath = os.path.join(ProcessedPath, xlsfile)\n",
    "unprocessedfilepath"
   ]
  },
  {
   "cell_type": "code",
   "execution_count": 6,
   "metadata": {},
   "outputs": [
    {
     "data": {
      "text/plain": [
       "First five         object\n",
       "No space           object\n",
       "Correct unit#      object\n",
       "Truck Status       object\n",
       "Division           object\n",
       "Truck Class        object\n",
       "Truck ID          float64\n",
       "Post_Date          object\n",
       "Invoice_Date      float64\n",
       "Source             object\n",
       "Read_Type          object\n",
       "PrePass_Id        float64\n",
       "EZPassId_Plate     object\n",
       "Truck_Id           object\n",
       "Agency             object\n",
       "Entry_Plaza        object\n",
       "Entry_Date        float64\n",
       "Exit_Plaza         object\n",
       "Exit_Date          object\n",
       "Class             float64\n",
       "Miles             float64\n",
       "Toll_Charge       float64\n",
       "dtype: object"
      ]
     },
     "execution_count": 6,
     "metadata": {},
     "output_type": "execute_result"
    }
   ],
   "source": [
    "df_xlsx = pd.read_excel(unprocessedfilepath)\n",
    "cleandf = df_xlsx.dropna(how='all')\n",
    "cleandf.dtypes"
   ]
  },
  {
   "cell_type": "code",
   "execution_count": 7,
   "metadata": {},
   "outputs": [
    {
     "data": {
      "text/plain": [
       "First five         object\n",
       "No space           object\n",
       "Correct unit#      object\n",
       "Truck Status       object\n",
       "Division           object\n",
       "Truck Class        object\n",
       "Truck ID           object\n",
       "Post_Date          object\n",
       "Invoice_Date       object\n",
       "Source             object\n",
       "Read_Type          object\n",
       "PrePass_Id        float64\n",
       "EZPassId_Plate     object\n",
       "Truck_Id           object\n",
       "Agency             object\n",
       "Entry_Plaza        object\n",
       "Entry_Date         object\n",
       "Exit_Plaza         object\n",
       "Exit_Date          object\n",
       "Class             float64\n",
       "Miles              object\n",
       "Toll_Charge       float64\n",
       "dtype: object"
      ]
     },
     "execution_count": 7,
     "metadata": {},
     "output_type": "execute_result"
    }
   ],
   "source": [
    "non_nan_df = cleandf.replace(np.nan,'',regex=True)\n",
    "non_nan_df.dtypes"
   ]
  },
  {
   "cell_type": "code",
   "execution_count": 8,
   "metadata": {},
   "outputs": [],
   "source": [
    "non_nan_df['First five'] = non_nan_df['First five'].astype(str)\n",
    "non_nan_df['No space']=non_nan_df['No space'].astype(str)\n",
    "non_nan_df['Correct unit#']=non_nan_df['Correct unit#'].astype(str)\n",
    "non_nan_df['Truck Status']=non_nan_df['Truck Status'].astype(str)\n",
    "non_nan_df['Division']=non_nan_df['Division'].astype(str)\n",
    "non_nan_df['Truck Class']=non_nan_df['Truck Class'].astype(str)\n",
    "non_nan_df['Truck ID'] = pd.to_numeric(non_nan_df['Truck ID'])\n",
    "non_nan_df['Post_Date'] = non_nan_df['Post_Date'].astype(str)\n",
    "non_nan_df['Invoice_Date'] = non_nan_df['Invoice_Date'].astype(str)\n",
    "non_nan_df['Source'] = non_nan_df['Source'].astype(str)\n",
    "non_nan_df['Read_Type'] = non_nan_df['Read_Type'].astype(str)\n",
    "non_nan_df['PrePass_Id'] = pd.to_numeric(non_nan_df['PrePass_Id'])\n",
    "non_nan_df['EZPassId_Plate']=non_nan_df['EZPassId_Plate'].astype(str)\n",
    "non_nan_df['Truck_Id']=non_nan_df['Truck_Id'].astype(str)\n",
    "non_nan_df['Agency']=non_nan_df['Agency'].astype(str)\n",
    "non_nan_df['Entry_Plaza']=non_nan_df['Entry_Plaza'].astype(str)\n",
    "non_nan_df['Entry_Date']=non_nan_df['Entry_Date'].astype(str)\n",
    "non_nan_df['Exit_Plaza']=non_nan_df['Exit_Plaza'].astype(str)\n",
    "non_nan_df['Exit_Date']=non_nan_df['Exit_Date'].astype(str)\n",
    "non_nan_df['Class']=pd.to_numeric(non_nan_df['Class'])\n",
    "non_nan_df['Miles']=non_nan_df['Miles'].astype(str)\n",
    "non_nan_df['Toll_Charge']=pd.to_numeric(non_nan_df['Toll_Charge'])"
   ]
  },
  {
   "cell_type": "code",
   "execution_count": 9,
   "metadata": {},
   "outputs": [
    {
     "data": {
      "text/plain": [
       "First five         object\n",
       "No space           object\n",
       "Correct unit#      object\n",
       "Truck Status       object\n",
       "Division           object\n",
       "Truck Class        object\n",
       "Truck ID          float64\n",
       "Post_Date          object\n",
       "Invoice_Date       object\n",
       "Source             object\n",
       "Read_Type          object\n",
       "PrePass_Id        float64\n",
       "EZPassId_Plate     object\n",
       "Truck_Id           object\n",
       "Agency             object\n",
       "Entry_Plaza        object\n",
       "Entry_Date         object\n",
       "Exit_Plaza         object\n",
       "Exit_Date          object\n",
       "Class             float64\n",
       "Miles              object\n",
       "Toll_Charge       float64\n",
       "dtype: object"
      ]
     },
     "execution_count": 9,
     "metadata": {},
     "output_type": "execute_result"
    }
   ],
   "source": [
    "non_nan_df.dtypes"
   ]
  },
  {
   "cell_type": "code",
   "execution_count": null,
   "metadata": {},
   "outputs": [],
   "source": [
    "test_df=pd.read_excel(ProcessedPath+os.sep+'test.xlsx')\n",
    "print(test_df.dtypes)"
   ]
  },
  {
   "cell_type": "code",
   "execution_count": null,
   "metadata": {},
   "outputs": [],
   "source": [
    "#test_df.to_sql(name='missions',con=conn,if_exists='replace',index=True)"
   ]
  },
  {
   "cell_type": "code",
   "execution_count": 10,
   "metadata": {},
   "outputs": [
    {
     "ename": "ProgrammingError",
     "evalue": "('42000', '[42000] [Microsoft][ODBC Driver 17 for SQL Server][SQL Server]The incoming tabular data stream (TDS) remote procedure call (RPC) protocol stream is incorrect. Parameter 10 (\"\"): The supplied value is not a valid instance of data type float. Check the source data for invalid values. An example of an invalid value is data of numeric type with scale greater than precision. (8023) (SQLExecDirectW)')",
     "output_type": "error",
     "traceback": [
      "\u001b[1;31m---------------------------------------------------------------------------\u001b[0m",
      "\u001b[1;31mProgrammingError\u001b[0m                          Traceback (most recent call last)",
      "\u001b[1;32m<ipython-input-10-47b332caa20e>\u001b[0m in \u001b[0;36m<module>\u001b[1;34m\u001b[0m\n\u001b[0;32m      1\u001b[0m \u001b[1;32mfor\u001b[0m \u001b[0mindex\u001b[0m\u001b[1;33m,\u001b[0m \u001b[0mrow\u001b[0m \u001b[1;32min\u001b[0m \u001b[0mnon_nan_df\u001b[0m\u001b[1;33m.\u001b[0m\u001b[0miterrows\u001b[0m\u001b[1;33m(\u001b[0m\u001b[1;33m)\u001b[0m\u001b[1;33m:\u001b[0m\u001b[1;33m\u001b[0m\u001b[1;33m\u001b[0m\u001b[0m\n\u001b[1;32m----> 2\u001b[1;33m     \u001b[0mcursor\u001b[0m\u001b[1;33m.\u001b[0m\u001b[0mexecute\u001b[0m\u001b[1;33m(\u001b[0m\u001b[1;34m\"INSERT INTO [dbo].[PrePassTexas]([First five],[No space],[Correct unit#],[Truck Status],[Division],[Truck Class],[Truck ID],[Post_Date],[Invoice_Date],[Source],[Read_Type],[PrePass_Id],[EZPassId_Plate],[Truck_Id],[Agency],[Entry_Plaza],[Entry_Date],[Exit_Plaza],[Exit_Date],[Class],[Miles],[Toll_Charge]) VALUES (?,?,?,?,?,?,?,?,?,?,?,?,?,?,?,?,?,?,?,?,?,?)\"\u001b[0m\u001b[1;33m,\u001b[0m \u001b[0mrow\u001b[0m\u001b[1;33m[\u001b[0m\u001b[1;34m'First five'\u001b[0m\u001b[1;33m]\u001b[0m\u001b[1;33m,\u001b[0m \u001b[0mrow\u001b[0m\u001b[1;33m[\u001b[0m\u001b[1;34m'No space'\u001b[0m\u001b[1;33m]\u001b[0m\u001b[1;33m,\u001b[0m \u001b[0mrow\u001b[0m\u001b[1;33m[\u001b[0m\u001b[1;34m'Correct unit#'\u001b[0m\u001b[1;33m]\u001b[0m\u001b[1;33m,\u001b[0m \u001b[0mrow\u001b[0m\u001b[1;33m[\u001b[0m\u001b[1;34m'Truck Status'\u001b[0m\u001b[1;33m]\u001b[0m\u001b[1;33m,\u001b[0m \u001b[0mrow\u001b[0m\u001b[1;33m[\u001b[0m\u001b[1;34m'Division'\u001b[0m\u001b[1;33m]\u001b[0m\u001b[1;33m,\u001b[0m \u001b[0mrow\u001b[0m\u001b[1;33m[\u001b[0m\u001b[1;34m'Truck Class'\u001b[0m\u001b[1;33m]\u001b[0m\u001b[1;33m,\u001b[0m \u001b[0mrow\u001b[0m\u001b[1;33m[\u001b[0m\u001b[1;34m'Truck ID'\u001b[0m\u001b[1;33m]\u001b[0m\u001b[1;33m,\u001b[0m \u001b[0mrow\u001b[0m\u001b[1;33m[\u001b[0m\u001b[1;34m'Post_Date'\u001b[0m\u001b[1;33m]\u001b[0m\u001b[1;33m,\u001b[0m \u001b[0mrow\u001b[0m\u001b[1;33m[\u001b[0m\u001b[1;34m'Invoice_Date'\u001b[0m\u001b[1;33m]\u001b[0m\u001b[1;33m,\u001b[0m \u001b[0mrow\u001b[0m\u001b[1;33m[\u001b[0m\u001b[1;34m'Source'\u001b[0m\u001b[1;33m]\u001b[0m\u001b[1;33m,\u001b[0m \u001b[0mrow\u001b[0m\u001b[1;33m[\u001b[0m\u001b[1;34m'Read_Type'\u001b[0m\u001b[1;33m]\u001b[0m\u001b[1;33m,\u001b[0m \u001b[0mrow\u001b[0m\u001b[1;33m[\u001b[0m\u001b[1;34m'PrePass_Id'\u001b[0m\u001b[1;33m]\u001b[0m\u001b[1;33m,\u001b[0m \u001b[0mrow\u001b[0m\u001b[1;33m[\u001b[0m\u001b[1;34m'EZPassId_Plate'\u001b[0m\u001b[1;33m]\u001b[0m\u001b[1;33m,\u001b[0m \u001b[0mrow\u001b[0m\u001b[1;33m[\u001b[0m\u001b[1;34m'Truck_Id'\u001b[0m\u001b[1;33m]\u001b[0m\u001b[1;33m,\u001b[0m \u001b[0mrow\u001b[0m\u001b[1;33m[\u001b[0m\u001b[1;34m'Agency'\u001b[0m\u001b[1;33m]\u001b[0m\u001b[1;33m,\u001b[0m \u001b[0mrow\u001b[0m\u001b[1;33m[\u001b[0m\u001b[1;34m'Entry_Plaza'\u001b[0m\u001b[1;33m]\u001b[0m\u001b[1;33m,\u001b[0m \u001b[0mrow\u001b[0m\u001b[1;33m[\u001b[0m\u001b[1;34m'Entry_Date'\u001b[0m\u001b[1;33m]\u001b[0m\u001b[1;33m,\u001b[0m \u001b[0mrow\u001b[0m\u001b[1;33m[\u001b[0m\u001b[1;34m'Exit_Plaza'\u001b[0m\u001b[1;33m]\u001b[0m\u001b[1;33m,\u001b[0m \u001b[0mrow\u001b[0m\u001b[1;33m[\u001b[0m\u001b[1;34m'Exit_Date'\u001b[0m\u001b[1;33m]\u001b[0m\u001b[1;33m,\u001b[0m \u001b[0mrow\u001b[0m\u001b[1;33m[\u001b[0m\u001b[1;34m'Class'\u001b[0m\u001b[1;33m]\u001b[0m\u001b[1;33m,\u001b[0m \u001b[0mrow\u001b[0m\u001b[1;33m[\u001b[0m\u001b[1;34m'Miles'\u001b[0m\u001b[1;33m]\u001b[0m\u001b[1;33m,\u001b[0m \u001b[0mrow\u001b[0m\u001b[1;33m[\u001b[0m\u001b[1;34m'Toll_Charge'\u001b[0m\u001b[1;33m]\u001b[0m\u001b[1;33m)\u001b[0m\u001b[1;33m\u001b[0m\u001b[1;33m\u001b[0m\u001b[0m\n\u001b[0m\u001b[0;32m      3\u001b[0m \u001b[1;33m\u001b[0m\u001b[0m\n\u001b[0;32m      4\u001b[0m     \u001b[1;31m#print(row['First five'])\u001b[0m\u001b[1;33m\u001b[0m\u001b[1;33m\u001b[0m\u001b[1;33m\u001b[0m\u001b[0m\n",
      "\u001b[1;31mProgrammingError\u001b[0m: ('42000', '[42000] [Microsoft][ODBC Driver 17 for SQL Server][SQL Server]The incoming tabular data stream (TDS) remote procedure call (RPC) protocol stream is incorrect. Parameter 10 (\"\"): The supplied value is not a valid instance of data type float. Check the source data for invalid values. An example of an invalid value is data of numeric type with scale greater than precision. (8023) (SQLExecDirectW)')"
     ]
    }
   ],
   "source": [
    "for index, row in non_nan_df.iterrows():\n",
    "    cursor.execute(\"INSERT INTO [dbo].[PrePassTexas]([First five],[No space],[Correct unit#],[Truck Status],[Division],[Truck Class],[Truck ID],[Post_Date],[Invoice_Date],[Source],[Read_Type],[PrePass_Id],[EZPassId_Plate],[Truck_Id],[Agency],[Entry_Plaza],[Entry_Date],[Exit_Plaza],[Exit_Date],[Class],[Miles],[Toll_Charge]) VALUES (?,?,?,?,?,?,?,?,?,?,?,?,?,?,?,?,?,?,?,?,?,?)\", row['First five'], row['No space'], row['Correct unit#'], row['Truck Status'], row['Division'], row['Truck Class'], row['Truck ID'], row['Post_Date'], row['Invoice_Date'], row['Source'], row['Read_Type'], row['PrePass_Id'], row['EZPassId_Plate'], row['Truck_Id'], row['Agency'], row['Entry_Plaza'], row['Entry_Date'], row['Exit_Plaza'], row['Exit_Date'], row['Class'], row['Miles'], row['Toll_Charge'])\n",
    "    \n",
    "    #print(row['First five'])"
   ]
  },
  {
   "cell_type": "code",
   "execution_count": null,
   "metadata": {},
   "outputs": [],
   "source": [
    "non_nan_df.to_excel(ProcessedPath+ os.sep+'test.xlsx', index=False)"
   ]
  },
  {
   "cell_type": "code",
   "execution_count": null,
   "metadata": {},
   "outputs": [],
   "source": [
    "#conn.commit()\n",
    "#cursor.close()\n",
    "#conn.close()"
   ]
  },
  {
   "cell_type": "code",
   "execution_count": null,
   "metadata": {},
   "outputs": [],
   "source": [
    "#shutil.move(unprocessedfilepath, processedfilepath)"
   ]
  }
 ],
 "metadata": {
  "kernelspec": {
   "display_name": "Python 3",
   "language": "python",
   "name": "python3"
  },
  "language_info": {
   "codemirror_mode": {
    "name": "ipython",
    "version": 3
   },
   "file_extension": ".py",
   "mimetype": "text/x-python",
   "name": "python",
   "nbconvert_exporter": "python",
   "pygments_lexer": "ipython3",
   "version": "3.7.4"
  }
 },
 "nbformat": 4,
 "nbformat_minor": 2
}
