{
 "cells": [
  {
   "cell_type": "code",
   "execution_count": 22,
   "metadata": {},
   "outputs": [],
   "source": [
    "import os\n",
    "import pyodbc\n",
    "import pandas as pd\n",
    "import numpy as np\n",
    "import shutil"
   ]
  },
  {
   "cell_type": "code",
   "execution_count": 23,
   "metadata": {},
   "outputs": [],
   "source": [
    "server = 'tcp:sqlserverprod'\n",
    "database = 'Reporting'\n",
    "conn = pyodbc.connect('DRIVER={ODBC Driver 17 for SQL Server};SERVER='+server+';DATABASE='+database+';Trusted_Connection=yes;')\n",
    "cursor = conn.cursor()"
   ]
  },
  {
   "cell_type": "code",
   "execution_count": 24,
   "metadata": {},
   "outputs": [],
   "source": [
    "UnProcessedPath = os.path.join('C:', os.sep, 'FilePath','UnProcessed')\n",
    "ProcessedPath = os.path.join('C:', os.sep, 'FilePath','Processed')"
   ]
  },
  {
   "cell_type": "code",
   "execution_count": 25,
   "metadata": {},
   "outputs": [],
   "source": [
    "with os.scandir(UnProcessedPath) as files:\n",
    "    for file in files:\n",
    "        if file.is_file():\n",
    "            xlsfile=file.name"
   ]
  },
  {
   "cell_type": "code",
   "execution_count": 26,
   "metadata": {},
   "outputs": [
    {
     "data": {
      "text/plain": [
       "'C:\\\\FilePath\\\\UnProcessed\\\\Power query 6-12 Jan 2020.xlsx'"
      ]
     },
     "execution_count": 26,
     "metadata": {},
     "output_type": "execute_result"
    }
   ],
   "source": [
    "unprocessedfilepath = os.path.join(UnProcessedPath, xlsfile)\n",
    "processedfilepath = os.path.join(ProcessedPath, xlsfile)\n",
    "unprocessedfilepath"
   ]
  },
  {
   "cell_type": "code",
   "execution_count": 27,
   "metadata": {},
   "outputs": [],
   "source": [
    "df_xlsx = pd.read_excel(unprocessedfilepath)\n",
    "cleandf = df_xlsx.dropna(how='all')"
   ]
  },
  {
   "cell_type": "code",
   "execution_count": 28,
   "metadata": {},
   "outputs": [
    {
     "name": "stdout",
     "output_type": "stream",
     "text": [
      "<class 'pandas.core.frame.DataFrame'>\n",
      "Int64Index: 1503 entries, 0 to 1502\n",
      "Data columns (total 22 columns):\n",
      "First five        1503 non-null object\n",
      "No space          1503 non-null object\n",
      "Correct unit#     1503 non-null object\n",
      "Truck Status      1503 non-null object\n",
      "Division          1503 non-null object\n",
      "Truck Class       1503 non-null object\n",
      "Truck ID          1503 non-null object\n",
      "Post_Date         1503 non-null object\n",
      "Invoice_Date      1503 non-null object\n",
      "Source            1503 non-null object\n",
      "Read_Type         1503 non-null object\n",
      "PrePass_Id        1503 non-null float64\n",
      "EZPassId_Plate    1503 non-null object\n",
      "Truck_Id          1503 non-null object\n",
      "Agency            1503 non-null object\n",
      "Entry_Plaza       1503 non-null object\n",
      "Entry_Date        1503 non-null object\n",
      "Exit_Plaza        1503 non-null object\n",
      "Exit_Date         1503 non-null object\n",
      "Class             1503 non-null float64\n",
      "Miles             1503 non-null object\n",
      "Toll_Charge       1503 non-null float64\n",
      "dtypes: float64(3), object(19)\n",
      "memory usage: 270.1+ KB\n"
     ]
    }
   ],
   "source": [
    "non_nan_df = cleandf.replace(np.nan,'',regex=True)\n",
    "non_nan_df.info()"
   ]
  },
  {
   "cell_type": "code",
   "execution_count": 29,
   "metadata": {},
   "outputs": [
    {
     "name": "stdout",
     "output_type": "stream",
     "text": [
      "<class 'pandas.core.frame.DataFrame'>\n",
      "Int64Index: 1503 entries, 0 to 1502\n",
      "Data columns (total 22 columns):\n",
      "First five        1503 non-null object\n",
      "No space          1503 non-null object\n",
      "Correct unit#     1503 non-null object\n",
      "Truck Status      1503 non-null object\n",
      "Division          1503 non-null object\n",
      "Truck Class       1503 non-null object\n",
      "Truck ID          1025 non-null float64\n",
      "Post_Date         1503 non-null object\n",
      "Invoice_Date      1503 non-null object\n",
      "Source            1503 non-null object\n",
      "Read_Type         1503 non-null object\n",
      "PrePass_Id        1503 non-null float64\n",
      "EZPassId_Plate    1503 non-null object\n",
      "Truck_Id          1503 non-null object\n",
      "Agency            1503 non-null object\n",
      "Entry_Plaza       1503 non-null object\n",
      "Entry_Date        1503 non-null object\n",
      "Exit_Plaza        1503 non-null object\n",
      "Exit_Date         1503 non-null object\n",
      "Class             1503 non-null float64\n",
      "Miles             1503 non-null object\n",
      "Toll_Charge       1503 non-null float64\n",
      "dtypes: float64(4), object(18)\n",
      "memory usage: 270.1+ KB\n"
     ]
    }
   ],
   "source": [
    "non_nan_df[['Truck ID', 'PrePass_Id']] = non_nan_df[['Truck ID', 'PrePass_Id']].apply(pd.to_numeric)\n",
    "non_nan_df.info()\n",
    "non_nan_df.to_excel(ProcessedPath+os.sep+'test.xlsx', index=False)\n",
    "\n",
    "#non_nan_df['Truck ID']=non_nan_df.astype({'Truck ID':'int32'}).dtypes\n",
    "#non_nan_df['Invoice_Date']=non_nan_df['Invoice_Date'].astype(str)\n",
    "#non_nan_df['PrePass_Id']=non_nan_df['PrePass_Id'].astype('int64')\n",
    "#non_nan_df['Entry_Date']=non_nan_df['Entry_Date'].astype(str)\n",
    "#non_nan_df['Class']=non_nan_df['Class'].astype(str)\n",
    "#non_nan_df['Miles']=non_nan_df['Miles'].astype(str)\n",
    "#non_nan_df['Toll_Charge']=non_nan_df['Toll_Charge'].astype(str)"
   ]
  },
  {
   "cell_type": "code",
   "execution_count": 21,
   "metadata": {},
   "outputs": [
    {
     "ename": "ProgrammingError",
     "evalue": "('42000', '[42000] [Microsoft][ODBC Driver 17 for SQL Server][SQL Server]The incoming tabular data stream (TDS) remote procedure call (RPC) protocol stream is incorrect. Parameter 10 (\"\"): The supplied value is not a valid instance of data type float. Check the source data for invalid values. An example of an invalid value is data of numeric type with scale greater than precision. (8023) (SQLExecDirectW)')",
     "output_type": "error",
     "traceback": [
      "\u001b[1;31m---------------------------------------------------------------------------\u001b[0m",
      "\u001b[1;31mProgrammingError\u001b[0m                          Traceback (most recent call last)",
      "\u001b[1;32m<ipython-input-21-6e7a0b03ef8c>\u001b[0m in \u001b[0;36m<module>\u001b[1;34m\u001b[0m\n\u001b[0;32m      1\u001b[0m \u001b[1;32mfor\u001b[0m \u001b[0mindex\u001b[0m\u001b[1;33m,\u001b[0m \u001b[0mrow\u001b[0m \u001b[1;32min\u001b[0m \u001b[0mnon_nan_df\u001b[0m\u001b[1;33m.\u001b[0m\u001b[0miterrows\u001b[0m\u001b[1;33m(\u001b[0m\u001b[1;33m)\u001b[0m\u001b[1;33m:\u001b[0m\u001b[1;33m\u001b[0m\u001b[1;33m\u001b[0m\u001b[0m\n\u001b[1;32m----> 2\u001b[1;33m     \u001b[0mcursor\u001b[0m\u001b[1;33m.\u001b[0m\u001b[0mexecute\u001b[0m\u001b[1;33m(\u001b[0m\u001b[1;34m\"INSERT INTO [dbo].[TexasToll]([First five],[No space],[Correct unit#],[Truck Status],[Division],[Truck Class],[Truck ID],[Post_Date],[Invoice_Date],[Source],[Read_Type],[PrePass_Id],[EZPassId_Plate],[Truck_Id],[Agency],[Entry_Plaza],[Entry_Date],[Exit_Plaza],[Exit_Date],[Class],[Miles],[Toll_Charge]) VALUES (?,?,?,?,?,?,?,?,?,?,?,?,?,?,?,?,?,?,?,?,?,?)\"\u001b[0m\u001b[1;33m,\u001b[0m \u001b[0mrow\u001b[0m\u001b[1;33m[\u001b[0m\u001b[1;34m'First five'\u001b[0m\u001b[1;33m]\u001b[0m\u001b[1;33m,\u001b[0m \u001b[0mrow\u001b[0m\u001b[1;33m[\u001b[0m\u001b[1;34m'No space'\u001b[0m\u001b[1;33m]\u001b[0m\u001b[1;33m,\u001b[0m \u001b[0mrow\u001b[0m\u001b[1;33m[\u001b[0m\u001b[1;34m'Correct unit#'\u001b[0m\u001b[1;33m]\u001b[0m\u001b[1;33m,\u001b[0m \u001b[0mrow\u001b[0m\u001b[1;33m[\u001b[0m\u001b[1;34m'Truck Status'\u001b[0m\u001b[1;33m]\u001b[0m\u001b[1;33m,\u001b[0m \u001b[0mrow\u001b[0m\u001b[1;33m[\u001b[0m\u001b[1;34m'Division'\u001b[0m\u001b[1;33m]\u001b[0m\u001b[1;33m,\u001b[0m \u001b[0mrow\u001b[0m\u001b[1;33m[\u001b[0m\u001b[1;34m'Truck Class'\u001b[0m\u001b[1;33m]\u001b[0m\u001b[1;33m,\u001b[0m \u001b[0mrow\u001b[0m\u001b[1;33m[\u001b[0m\u001b[1;34m'Truck ID'\u001b[0m\u001b[1;33m]\u001b[0m\u001b[1;33m,\u001b[0m \u001b[0mrow\u001b[0m\u001b[1;33m[\u001b[0m\u001b[1;34m'Post_Date'\u001b[0m\u001b[1;33m]\u001b[0m\u001b[1;33m,\u001b[0m \u001b[0mrow\u001b[0m\u001b[1;33m[\u001b[0m\u001b[1;34m'Invoice_Date'\u001b[0m\u001b[1;33m]\u001b[0m\u001b[1;33m,\u001b[0m \u001b[0mrow\u001b[0m\u001b[1;33m[\u001b[0m\u001b[1;34m'Source'\u001b[0m\u001b[1;33m]\u001b[0m\u001b[1;33m,\u001b[0m \u001b[0mrow\u001b[0m\u001b[1;33m[\u001b[0m\u001b[1;34m'Read_Type'\u001b[0m\u001b[1;33m]\u001b[0m\u001b[1;33m,\u001b[0m \u001b[0mrow\u001b[0m\u001b[1;33m[\u001b[0m\u001b[1;34m'PrePass_Id'\u001b[0m\u001b[1;33m]\u001b[0m\u001b[1;33m,\u001b[0m \u001b[0mrow\u001b[0m\u001b[1;33m[\u001b[0m\u001b[1;34m'EZPassId_Plate'\u001b[0m\u001b[1;33m]\u001b[0m\u001b[1;33m,\u001b[0m \u001b[0mrow\u001b[0m\u001b[1;33m[\u001b[0m\u001b[1;34m'Truck_Id'\u001b[0m\u001b[1;33m]\u001b[0m\u001b[1;33m,\u001b[0m \u001b[0mrow\u001b[0m\u001b[1;33m[\u001b[0m\u001b[1;34m'Agency'\u001b[0m\u001b[1;33m]\u001b[0m\u001b[1;33m,\u001b[0m \u001b[0mrow\u001b[0m\u001b[1;33m[\u001b[0m\u001b[1;34m'Entry_Plaza'\u001b[0m\u001b[1;33m]\u001b[0m\u001b[1;33m,\u001b[0m \u001b[0mrow\u001b[0m\u001b[1;33m[\u001b[0m\u001b[1;34m'Entry_Date'\u001b[0m\u001b[1;33m]\u001b[0m\u001b[1;33m,\u001b[0m \u001b[0mrow\u001b[0m\u001b[1;33m[\u001b[0m\u001b[1;34m'Exit_Plaza'\u001b[0m\u001b[1;33m]\u001b[0m\u001b[1;33m,\u001b[0m \u001b[0mrow\u001b[0m\u001b[1;33m[\u001b[0m\u001b[1;34m'Exit_Date'\u001b[0m\u001b[1;33m]\u001b[0m\u001b[1;33m,\u001b[0m \u001b[0mrow\u001b[0m\u001b[1;33m[\u001b[0m\u001b[1;34m'Class'\u001b[0m\u001b[1;33m]\u001b[0m\u001b[1;33m,\u001b[0m \u001b[0mrow\u001b[0m\u001b[1;33m[\u001b[0m\u001b[1;34m'Miles'\u001b[0m\u001b[1;33m]\u001b[0m\u001b[1;33m,\u001b[0m \u001b[0mrow\u001b[0m\u001b[1;33m[\u001b[0m\u001b[1;34m'Toll_Charge'\u001b[0m\u001b[1;33m]\u001b[0m\u001b[1;33m)\u001b[0m\u001b[1;33m\u001b[0m\u001b[1;33m\u001b[0m\u001b[0m\n\u001b[0m\u001b[0;32m      3\u001b[0m \u001b[1;33m\u001b[0m\u001b[0m\n\u001b[0;32m      4\u001b[0m \u001b[0mconn\u001b[0m\u001b[1;33m.\u001b[0m\u001b[0mcommit\u001b[0m\u001b[1;33m(\u001b[0m\u001b[1;33m)\u001b[0m\u001b[1;33m\u001b[0m\u001b[1;33m\u001b[0m\u001b[0m\n\u001b[0;32m      5\u001b[0m \u001b[0mcursor\u001b[0m\u001b[1;33m.\u001b[0m\u001b[0mclose\u001b[0m\u001b[1;33m(\u001b[0m\u001b[1;33m)\u001b[0m\u001b[1;33m\u001b[0m\u001b[1;33m\u001b[0m\u001b[0m\n",
      "\u001b[1;31mProgrammingError\u001b[0m: ('42000', '[42000] [Microsoft][ODBC Driver 17 for SQL Server][SQL Server]The incoming tabular data stream (TDS) remote procedure call (RPC) protocol stream is incorrect. Parameter 10 (\"\"): The supplied value is not a valid instance of data type float. Check the source data for invalid values. An example of an invalid value is data of numeric type with scale greater than precision. (8023) (SQLExecDirectW)')"
     ]
    }
   ],
   "source": [
    "for index, row in non_nan_df.iterrows():\n",
    "    cursor.execute(\"INSERT INTO [dbo].[TexasToll]([First five],[No space],[Correct unit#],[Truck Status],[Division],[Truck Class],[Truck ID],[Post_Date],[Invoice_Date],[Source],[Read_Type],[PrePass_Id],[EZPassId_Plate],[Truck_Id],[Agency],[Entry_Plaza],[Entry_Date],[Exit_Plaza],[Exit_Date],[Class],[Miles],[Toll_Charge]) VALUES (?,?,?,?,?,?,?,?,?,?,?,?,?,?,?,?,?,?,?,?,?,?)\", row['First five'], row['No space'], row['Correct unit#'], row['Truck Status'], row['Division'], row['Truck Class'], row['Truck ID'], row['Post_Date'], row['Invoice_Date'], row['Source'], row['Read_Type'], row['PrePass_Id'], row['EZPassId_Plate'], row['Truck_Id'], row['Agency'], row['Entry_Plaza'], row['Entry_Date'], row['Exit_Plaza'], row['Exit_Date'], row['Class'], row['Miles'], row['Toll_Charge'])\n",
    "\n",
    "conn.commit()\n",
    "cursor.close()\n",
    "conn.close()"
   ]
  },
  {
   "cell_type": "code",
   "execution_count": null,
   "metadata": {},
   "outputs": [],
   "source": [
    "#shutil.move(unprocessedfilepath, processedfilepath)"
   ]
  }
 ],
 "metadata": {
  "kernelspec": {
   "display_name": "Python 3",
   "language": "python",
   "name": "python3"
  },
  "language_info": {
   "codemirror_mode": {
    "name": "ipython",
    "version": 3
   },
   "file_extension": ".py",
   "mimetype": "text/x-python",
   "name": "python",
   "nbconvert_exporter": "python",
   "pygments_lexer": "ipython3",
   "version": "3.7.4"
  }
 },
 "nbformat": 4,
 "nbformat_minor": 2
}
