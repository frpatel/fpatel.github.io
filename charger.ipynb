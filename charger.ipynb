{
 "cells": [
  {
   "cell_type": "code",
   "execution_count": null,
   "metadata": {},
   "outputs": [],
   "source": [
    "import os\n",
    "import pyodbc\n",
    "import pandas as pd\n",
    "import numpy as np\n",
    "import shutil"
   ]
  },
  {
   "cell_type": "code",
   "execution_count": null,
   "metadata": {},
   "outputs": [],
   "source": [
    "server = 'bo105'\n",
    "database = 'test_db'\n",
    "conn = pyodbc.connect('DRIVER={ODBC Driver 17 for SQL Server};SERVER='+server+';DATABASE='+database+';Trusted_Connection=yes;')\n",
    "cursor = conn.cursor()"
   ]
  },
  {
   "cell_type": "code",
   "execution_count": null,
   "metadata": {},
   "outputs": [],
   "source": [
    "UnProcessedPath = os.path.join('C:', os.sep, 'FilePath','UnProcessed')\n",
    "ProcessedPath = os.path.join('C:', os.sep, 'FilePath','Processed')\n",
    "\n",
    "unprocessedfilepath = os.path.join(UnProcessedPath, xlsfile)\n",
    "processedfilepath = os.path.join(ProcessedPath, xlsfile)"
   ]
  },
  {
   "cell_type": "code",
   "execution_count": null,
   "metadata": {},
   "outputs": [],
   "source": [
    "with os.scandir(UnProcessedPath) as files:\n",
    "    for file in files:\n",
    "        if file.is_file():\n",
    "            xlsfile=file.name"
   ]
  },
  {
   "cell_type": "code",
   "execution_count": null,
   "metadata": {},
   "outputs": [],
   "source": [
    "df_xlsx = pd.read_excel(unprocessedfilepath)\n",
    "cleandf = df_xlsx.dropna(how='all')"
   ]
  },
  {
   "cell_type": "code",
   "execution_count": null,
   "metadata": {},
   "outputs": [],
   "source": [
    "cleandf['Truck ID']=cleandf['Truck ID'].astype(str)\n",
    "cleandf['Invoice_Date']=cleandf['Invoice_Date'].astype(str)\n",
    "cleandf['PrePass_Id']=cleandf['PrePass_Id'].astype(str)\n",
    "cleandf['Entry_Date']=cleandf['Entry_Date'].astype(str)\n",
    "cleandf['Class']=cleandf['Class'].astype(str)\n",
    "cleandf['Miles']=cleandf['Miles'].astype(str)\n",
    "cleandf['Toll_Charge']=cleandf['Toll_Charge'].astype(str)"
   ]
  },
  {
   "cell_type": "code",
   "execution_count": null,
   "metadata": {},
   "outputs": [],
   "source": [
    "for index, row in cleandf.iterrows():\n",
    "    cursor.execute(\"INSERT INTO [dbo].[db_test]([First five],[No space],[Correct unit#],[Truck Status],[Division],[Truck Class],[Truck ID],[Post_Date],[Invoice_Date],[Source],[Read_Type],[PrePass_Id],[EZPassId_Plate],[Truck_Id],[Agency],[Entry_Plaza],[Entry_Date],[Exit_Plaza],[Exit_Date],[Class],[Miles],[Toll_Charge]) VALUES (?,?,?,?,?,?,?,?,?,?,?,?,?,?,?,?,?,?,?,?,?,?)\", row['First five'], row['No space'], row['Correct unit#'], row['Truck Status'], row['Division'], row['Truck Class'], row['Truck ID'], row['Post_Date'], row['Invoice_Date'], row['Source'], row['Read_Type'], row['PrePass_Id'], row['EZPassId_Plate'], row['Truck_Id'], row['Agency'], row['Entry_Plaza'], row['Entry_Date'], row['Exit_Plaza'], row['Exit_Date'], row['Class'], row['Miles'], row['Toll_Charge'])\n",
    "\n",
    "conn.commit()\n",
    "cursor.close()\n",
    "conn.close()"
   ]
  },
  {
   "cell_type": "code",
   "execution_count": null,
   "metadata": {},
   "outputs": [],
   "source": [
    "shutil.move(unprocessedfilepath, processedfilepath)"
   ]
  }
 ],
 "metadata": {
  "kernelspec": {
   "display_name": "Python 3",
   "language": "python",
   "name": "python3"
  },
  "language_info": {
   "codemirror_mode": {
    "name": "ipython",
    "version": 3
   },
   "file_extension": ".py",
   "mimetype": "text/x-python",
   "name": "python",
   "nbconvert_exporter": "python",
   "pygments_lexer": "ipython3",
   "version": "3.7.4"
  }
 },
 "nbformat": 4,
 "nbformat_minor": 2
}
